{
 "cells": [
  {
   "cell_type": "markdown",
   "id": "2ffb720a",
   "metadata": {},
   "source": [
    "As far as the research I have done on the internet , Hausdorff distance is the suitable metric for this question.\n",
    "Hausdorff distance is a way to measure how different two paths are from each other. Imagine you have two sets of points representing paths, it finds the biggest gap between them. It works by checking each point in one path and seeing how far it is from the nearest point in the other path. This makes it different from Chamfer distance.\n",
    "\n",
    "Hausdorff distance is super useful in computer vision tasks like matching shapes in images. If the distance between two shapes is small, it means they're pretty similar.\n",
    "\n",
    "Advantages of using Hausdorff distance:\n",
    "- It gives a big-picture view of how similar two paths are, unlike the straight-line distance (Euclidean distance) which just looks at point-to-point distances.\n",
    "- It handles paths that twist and turn and overlap each other.\n",
    "- It looks at both directions, from path A to B and from B to A.\n",
    "\n",
    "But, there are some downsides too. Hausdorff distance can be thrown off by outliers or small changes in the paths. Even tiny errors can make a big difference in the distance it calculates.\n",
    "\n",
    "Other distance metrics you might come across include:\n",
    "- Euclidean Distance: This is just the straight-line distance between points.\n",
    "- Manhattan Distance: It's like if you're navigating a city grid, adding up the blocks you travel along each street.\n",
    "- Chebyshev Distance: This measures the biggest difference along any coordinate axis.\n",
    "- Edit Distance: It counts how many changes you need to make to turn one path into the other.\n",
    "- Fréchet Distance: This one's a bit quirky—it's like the minimum leash length you'd need to walk two paths at the same time.\n",
    "\n",
    "And hey, fun fact: a bunch of these metrics are buddies with dynamic programming too!\n",
    "\n",
    "https://medium.com/@sim30217/hausdorff-distance-a2580a8dcbb2"
   ]
  },
  {
   "cell_type": "markdown",
   "id": "0f5e53d1",
   "metadata": {},
   "source": [
    "For the second part of the question , the first thing that came into my mind was dot product. Higher the dot product of two high dimensional vectors , more similar they are. But after searching in google I came to know that there is something called cosine similarity , which is an extended version of dot product (i.e. dotproduct divided by the product of magnitude of it's vectors).\n",
    "cosine similary is better because , it gives normalised values whereas dot product can give large values and it becomes harder for us to notice the similarity. Hence cosine similarity is the metric used in identifying similar embeddings\n",
    "Below are few corpus of words and their embeddings and how well they are related to each other can be seen from the values obtained after applying the metrics.\n",
    "\n",
    "https://medium.com/@arjunprakash027/understanding-cosine-similarity-a-key-concept-in-data-science-72a0fcc57599\n",
    "https://www.youtube.com/watch?v=wjZofJX0v4M"
   ]
  },
  {
   "cell_type": "code",
   "execution_count": 14,
   "id": "fbfbc816",
   "metadata": {},
   "outputs": [
    {
     "data": {
      "application/vnd.plotly.v1+json": {
       "config": {
        "plotlyServerURL": "https://plot.ly"
       },
       "data": [
        {
         "marker": {
          "size": 8
         },
         "mode": "markers+text",
         "text": [
          "happiness"
         ],
         "textposition": "top center",
         "type": "scatter3d",
         "x": [
          145.3493194580078
         ],
         "y": [
          -48.86354446411133
         ],
         "z": [
          20.07553482055664
         ]
        },
        {
         "marker": {
          "size": 8
         },
         "mode": "markers+text",
         "text": [
          "success"
         ],
         "textposition": "top center",
         "type": "scatter3d",
         "x": [
          13.309150695800781
         ],
         "y": [
          -7.753138542175293
         ],
         "z": [
          -4.612916469573975
         ]
        },
        {
         "marker": {
          "size": 8
         },
         "mode": "markers+text",
         "text": [
          "sadness"
         ],
         "textposition": "top center",
         "type": "scatter3d",
         "x": [
          182.7433319091797
         ],
         "y": [
          24.650684356689453
         ],
         "z": [
          -38.28227996826172
         ]
        },
        {
         "marker": {
          "size": 8
         },
         "mode": "markers+text",
         "text": [
          "failure"
         ],
         "textposition": "top center",
         "type": "scatter3d",
         "x": [
          -77.8073959350586
         ],
         "y": [
          30.575265884399414
         ],
         "z": [
          -29.89517593383789
         ]
        },
        {
         "marker": {
          "size": 8
         },
         "mode": "markers+text",
         "text": [
          "man"
         ],
         "textposition": "top center",
         "type": "scatter3d",
         "x": [
          -51.85252380371094
         ],
         "y": [
          -74.26923370361328
         ],
         "z": [
          113.52998352050781
         ]
        },
        {
         "marker": {
          "size": 8
         },
         "mode": "markers+text",
         "text": [
          "woman"
         ],
         "textposition": "top center",
         "type": "scatter3d",
         "x": [
          3.8013079166412354
         ],
         "y": [
          -74.65668487548828
         ],
         "z": [
          -134.27108764648438
         ]
        },
        {
         "marker": {
          "size": 8
         },
         "mode": "markers+text",
         "text": [
          "king"
         ],
         "textposition": "top center",
         "type": "scatter3d",
         "x": [
          13.359285354614258
         ],
         "y": [
          13.000322341918945
         ],
         "z": [
          -276.2284851074219
         ]
        },
        {
         "marker": {
          "size": 8
         },
         "mode": "markers+text",
         "text": [
          "queen"
         ],
         "textposition": "top center",
         "type": "scatter3d",
         "x": [
          -24.943201065063477
         ],
         "y": [
          9.308791160583496
         ],
         "z": [
          256.95184326171875
         ]
        },
        {
         "marker": {
          "size": 8
         },
         "mode": "markers+text",
         "text": [
          "dog"
         ],
         "textposition": "top center",
         "type": "scatter3d",
         "x": [
          -74.16039276123047
         ],
         "y": [
          -161.48846435546875
         ],
         "z": [
          -4.329056739807129
         ]
        },
        {
         "marker": {
          "size": 8
         },
         "mode": "markers+text",
         "text": [
          "cat"
         ],
         "textposition": "top center",
         "type": "scatter3d",
         "x": [
          52.48282241821289
         ],
         "y": [
          98.40245819091797
         ],
         "z": [
          110.46315002441406
         ]
        },
        {
         "marker": {
          "size": 8
         },
         "mode": "markers+text",
         "text": [
          "rabbit"
         ],
         "textposition": "top center",
         "type": "scatter3d",
         "x": [
          -13.786295890808105
         ],
         "y": [
          175.13345336914062
         ],
         "z": [
          57.09922790527344
         ]
        }
       ],
       "layout": {
        "scene": {
         "xaxis": {
          "title": {
           "text": "Dimension 1"
          }
         },
         "yaxis": {
          "title": {
           "text": "Dimension 2"
          }
         },
         "zaxis": {
          "title": {
           "text": "Dimension 3"
          }
         }
        },
        "template": {
         "data": {
          "bar": [
           {
            "error_x": {
             "color": "#2a3f5f"
            },
            "error_y": {
             "color": "#2a3f5f"
            },
            "marker": {
             "line": {
              "color": "#E5ECF6",
              "width": 0.5
             },
             "pattern": {
              "fillmode": "overlay",
              "size": 10,
              "solidity": 0.2
             }
            },
            "type": "bar"
           }
          ],
          "barpolar": [
           {
            "marker": {
             "line": {
              "color": "#E5ECF6",
              "width": 0.5
             },
             "pattern": {
              "fillmode": "overlay",
              "size": 10,
              "solidity": 0.2
             }
            },
            "type": "barpolar"
           }
          ],
          "carpet": [
           {
            "aaxis": {
             "endlinecolor": "#2a3f5f",
             "gridcolor": "white",
             "linecolor": "white",
             "minorgridcolor": "white",
             "startlinecolor": "#2a3f5f"
            },
            "baxis": {
             "endlinecolor": "#2a3f5f",
             "gridcolor": "white",
             "linecolor": "white",
             "minorgridcolor": "white",
             "startlinecolor": "#2a3f5f"
            },
            "type": "carpet"
           }
          ],
          "choropleth": [
           {
            "colorbar": {
             "outlinewidth": 0,
             "ticks": ""
            },
            "type": "choropleth"
           }
          ],
          "contour": [
           {
            "colorbar": {
             "outlinewidth": 0,
             "ticks": ""
            },
            "colorscale": [
             [
              0,
              "#0d0887"
             ],
             [
              0.1111111111111111,
              "#46039f"
             ],
             [
              0.2222222222222222,
              "#7201a8"
             ],
             [
              0.3333333333333333,
              "#9c179e"
             ],
             [
              0.4444444444444444,
              "#bd3786"
             ],
             [
              0.5555555555555556,
              "#d8576b"
             ],
             [
              0.6666666666666666,
              "#ed7953"
             ],
             [
              0.7777777777777778,
              "#fb9f3a"
             ],
             [
              0.8888888888888888,
              "#fdca26"
             ],
             [
              1,
              "#f0f921"
             ]
            ],
            "type": "contour"
           }
          ],
          "contourcarpet": [
           {
            "colorbar": {
             "outlinewidth": 0,
             "ticks": ""
            },
            "type": "contourcarpet"
           }
          ],
          "heatmap": [
           {
            "colorbar": {
             "outlinewidth": 0,
             "ticks": ""
            },
            "colorscale": [
             [
              0,
              "#0d0887"
             ],
             [
              0.1111111111111111,
              "#46039f"
             ],
             [
              0.2222222222222222,
              "#7201a8"
             ],
             [
              0.3333333333333333,
              "#9c179e"
             ],
             [
              0.4444444444444444,
              "#bd3786"
             ],
             [
              0.5555555555555556,
              "#d8576b"
             ],
             [
              0.6666666666666666,
              "#ed7953"
             ],
             [
              0.7777777777777778,
              "#fb9f3a"
             ],
             [
              0.8888888888888888,
              "#fdca26"
             ],
             [
              1,
              "#f0f921"
             ]
            ],
            "type": "heatmap"
           }
          ],
          "heatmapgl": [
           {
            "colorbar": {
             "outlinewidth": 0,
             "ticks": ""
            },
            "colorscale": [
             [
              0,
              "#0d0887"
             ],
             [
              0.1111111111111111,
              "#46039f"
             ],
             [
              0.2222222222222222,
              "#7201a8"
             ],
             [
              0.3333333333333333,
              "#9c179e"
             ],
             [
              0.4444444444444444,
              "#bd3786"
             ],
             [
              0.5555555555555556,
              "#d8576b"
             ],
             [
              0.6666666666666666,
              "#ed7953"
             ],
             [
              0.7777777777777778,
              "#fb9f3a"
             ],
             [
              0.8888888888888888,
              "#fdca26"
             ],
             [
              1,
              "#f0f921"
             ]
            ],
            "type": "heatmapgl"
           }
          ],
          "histogram": [
           {
            "marker": {
             "pattern": {
              "fillmode": "overlay",
              "size": 10,
              "solidity": 0.2
             }
            },
            "type": "histogram"
           }
          ],
          "histogram2d": [
           {
            "colorbar": {
             "outlinewidth": 0,
             "ticks": ""
            },
            "colorscale": [
             [
              0,
              "#0d0887"
             ],
             [
              0.1111111111111111,
              "#46039f"
             ],
             [
              0.2222222222222222,
              "#7201a8"
             ],
             [
              0.3333333333333333,
              "#9c179e"
             ],
             [
              0.4444444444444444,
              "#bd3786"
             ],
             [
              0.5555555555555556,
              "#d8576b"
             ],
             [
              0.6666666666666666,
              "#ed7953"
             ],
             [
              0.7777777777777778,
              "#fb9f3a"
             ],
             [
              0.8888888888888888,
              "#fdca26"
             ],
             [
              1,
              "#f0f921"
             ]
            ],
            "type": "histogram2d"
           }
          ],
          "histogram2dcontour": [
           {
            "colorbar": {
             "outlinewidth": 0,
             "ticks": ""
            },
            "colorscale": [
             [
              0,
              "#0d0887"
             ],
             [
              0.1111111111111111,
              "#46039f"
             ],
             [
              0.2222222222222222,
              "#7201a8"
             ],
             [
              0.3333333333333333,
              "#9c179e"
             ],
             [
              0.4444444444444444,
              "#bd3786"
             ],
             [
              0.5555555555555556,
              "#d8576b"
             ],
             [
              0.6666666666666666,
              "#ed7953"
             ],
             [
              0.7777777777777778,
              "#fb9f3a"
             ],
             [
              0.8888888888888888,
              "#fdca26"
             ],
             [
              1,
              "#f0f921"
             ]
            ],
            "type": "histogram2dcontour"
           }
          ],
          "mesh3d": [
           {
            "colorbar": {
             "outlinewidth": 0,
             "ticks": ""
            },
            "type": "mesh3d"
           }
          ],
          "parcoords": [
           {
            "line": {
             "colorbar": {
              "outlinewidth": 0,
              "ticks": ""
             }
            },
            "type": "parcoords"
           }
          ],
          "pie": [
           {
            "automargin": true,
            "type": "pie"
           }
          ],
          "scatter": [
           {
            "fillpattern": {
             "fillmode": "overlay",
             "size": 10,
             "solidity": 0.2
            },
            "type": "scatter"
           }
          ],
          "scatter3d": [
           {
            "line": {
             "colorbar": {
              "outlinewidth": 0,
              "ticks": ""
             }
            },
            "marker": {
             "colorbar": {
              "outlinewidth": 0,
              "ticks": ""
             }
            },
            "type": "scatter3d"
           }
          ],
          "scattercarpet": [
           {
            "marker": {
             "colorbar": {
              "outlinewidth": 0,
              "ticks": ""
             }
            },
            "type": "scattercarpet"
           }
          ],
          "scattergeo": [
           {
            "marker": {
             "colorbar": {
              "outlinewidth": 0,
              "ticks": ""
             }
            },
            "type": "scattergeo"
           }
          ],
          "scattergl": [
           {
            "marker": {
             "colorbar": {
              "outlinewidth": 0,
              "ticks": ""
             }
            },
            "type": "scattergl"
           }
          ],
          "scattermapbox": [
           {
            "marker": {
             "colorbar": {
              "outlinewidth": 0,
              "ticks": ""
             }
            },
            "type": "scattermapbox"
           }
          ],
          "scatterpolar": [
           {
            "marker": {
             "colorbar": {
              "outlinewidth": 0,
              "ticks": ""
             }
            },
            "type": "scatterpolar"
           }
          ],
          "scatterpolargl": [
           {
            "marker": {
             "colorbar": {
              "outlinewidth": 0,
              "ticks": ""
             }
            },
            "type": "scatterpolargl"
           }
          ],
          "scatterternary": [
           {
            "marker": {
             "colorbar": {
              "outlinewidth": 0,
              "ticks": ""
             }
            },
            "type": "scatterternary"
           }
          ],
          "surface": [
           {
            "colorbar": {
             "outlinewidth": 0,
             "ticks": ""
            },
            "colorscale": [
             [
              0,
              "#0d0887"
             ],
             [
              0.1111111111111111,
              "#46039f"
             ],
             [
              0.2222222222222222,
              "#7201a8"
             ],
             [
              0.3333333333333333,
              "#9c179e"
             ],
             [
              0.4444444444444444,
              "#bd3786"
             ],
             [
              0.5555555555555556,
              "#d8576b"
             ],
             [
              0.6666666666666666,
              "#ed7953"
             ],
             [
              0.7777777777777778,
              "#fb9f3a"
             ],
             [
              0.8888888888888888,
              "#fdca26"
             ],
             [
              1,
              "#f0f921"
             ]
            ],
            "type": "surface"
           }
          ],
          "table": [
           {
            "cells": {
             "fill": {
              "color": "#EBF0F8"
             },
             "line": {
              "color": "white"
             }
            },
            "header": {
             "fill": {
              "color": "#C8D4E3"
             },
             "line": {
              "color": "white"
             }
            },
            "type": "table"
           }
          ]
         },
         "layout": {
          "annotationdefaults": {
           "arrowcolor": "#2a3f5f",
           "arrowhead": 0,
           "arrowwidth": 1
          },
          "autotypenumbers": "strict",
          "coloraxis": {
           "colorbar": {
            "outlinewidth": 0,
            "ticks": ""
           }
          },
          "colorscale": {
           "diverging": [
            [
             0,
             "#8e0152"
            ],
            [
             0.1,
             "#c51b7d"
            ],
            [
             0.2,
             "#de77ae"
            ],
            [
             0.3,
             "#f1b6da"
            ],
            [
             0.4,
             "#fde0ef"
            ],
            [
             0.5,
             "#f7f7f7"
            ],
            [
             0.6,
             "#e6f5d0"
            ],
            [
             0.7,
             "#b8e186"
            ],
            [
             0.8,
             "#7fbc41"
            ],
            [
             0.9,
             "#4d9221"
            ],
            [
             1,
             "#276419"
            ]
           ],
           "sequential": [
            [
             0,
             "#0d0887"
            ],
            [
             0.1111111111111111,
             "#46039f"
            ],
            [
             0.2222222222222222,
             "#7201a8"
            ],
            [
             0.3333333333333333,
             "#9c179e"
            ],
            [
             0.4444444444444444,
             "#bd3786"
            ],
            [
             0.5555555555555556,
             "#d8576b"
            ],
            [
             0.6666666666666666,
             "#ed7953"
            ],
            [
             0.7777777777777778,
             "#fb9f3a"
            ],
            [
             0.8888888888888888,
             "#fdca26"
            ],
            [
             1,
             "#f0f921"
            ]
           ],
           "sequentialminus": [
            [
             0,
             "#0d0887"
            ],
            [
             0.1111111111111111,
             "#46039f"
            ],
            [
             0.2222222222222222,
             "#7201a8"
            ],
            [
             0.3333333333333333,
             "#9c179e"
            ],
            [
             0.4444444444444444,
             "#bd3786"
            ],
            [
             0.5555555555555556,
             "#d8576b"
            ],
            [
             0.6666666666666666,
             "#ed7953"
            ],
            [
             0.7777777777777778,
             "#fb9f3a"
            ],
            [
             0.8888888888888888,
             "#fdca26"
            ],
            [
             1,
             "#f0f921"
            ]
           ]
          },
          "colorway": [
           "#636efa",
           "#EF553B",
           "#00cc96",
           "#ab63fa",
           "#FFA15A",
           "#19d3f3",
           "#FF6692",
           "#B6E880",
           "#FF97FF",
           "#FECB52"
          ],
          "font": {
           "color": "#2a3f5f"
          },
          "geo": {
           "bgcolor": "white",
           "lakecolor": "white",
           "landcolor": "#E5ECF6",
           "showlakes": true,
           "showland": true,
           "subunitcolor": "white"
          },
          "hoverlabel": {
           "align": "left"
          },
          "hovermode": "closest",
          "mapbox": {
           "style": "light"
          },
          "paper_bgcolor": "white",
          "plot_bgcolor": "#E5ECF6",
          "polar": {
           "angularaxis": {
            "gridcolor": "white",
            "linecolor": "white",
            "ticks": ""
           },
           "bgcolor": "#E5ECF6",
           "radialaxis": {
            "gridcolor": "white",
            "linecolor": "white",
            "ticks": ""
           }
          },
          "scene": {
           "xaxis": {
            "backgroundcolor": "#E5ECF6",
            "gridcolor": "white",
            "gridwidth": 2,
            "linecolor": "white",
            "showbackground": true,
            "ticks": "",
            "zerolinecolor": "white"
           },
           "yaxis": {
            "backgroundcolor": "#E5ECF6",
            "gridcolor": "white",
            "gridwidth": 2,
            "linecolor": "white",
            "showbackground": true,
            "ticks": "",
            "zerolinecolor": "white"
           },
           "zaxis": {
            "backgroundcolor": "#E5ECF6",
            "gridcolor": "white",
            "gridwidth": 2,
            "linecolor": "white",
            "showbackground": true,
            "ticks": "",
            "zerolinecolor": "white"
           }
          },
          "shapedefaults": {
           "line": {
            "color": "#2a3f5f"
           }
          },
          "ternary": {
           "aaxis": {
            "gridcolor": "white",
            "linecolor": "white",
            "ticks": ""
           },
           "baxis": {
            "gridcolor": "white",
            "linecolor": "white",
            "ticks": ""
           },
           "bgcolor": "#E5ECF6",
           "caxis": {
            "gridcolor": "white",
            "linecolor": "white",
            "ticks": ""
           }
          },
          "title": {
           "x": 0.05
          },
          "xaxis": {
           "automargin": true,
           "gridcolor": "white",
           "linecolor": "white",
           "ticks": "",
           "title": {
            "standoff": 15
           },
           "zerolinecolor": "white",
           "zerolinewidth": 2
          },
          "yaxis": {
           "automargin": true,
           "gridcolor": "white",
           "linecolor": "white",
           "ticks": "",
           "title": {
            "standoff": 15
           },
           "zerolinecolor": "white",
           "zerolinewidth": 2
          }
         }
        },
        "title": {
         "text": "Word Embeddings in 3D space"
        }
       }
      },
      "text/html": [
       "<div>                            <div id=\"ee1654fc-9025-4385-aac9-db5144bf78c3\" class=\"plotly-graph-div\" style=\"height:525px; width:100%;\"></div>            <script type=\"text/javascript\">                require([\"plotly\"], function(Plotly) {                    window.PLOTLYENV=window.PLOTLYENV || {};                                    if (document.getElementById(\"ee1654fc-9025-4385-aac9-db5144bf78c3\")) {                    Plotly.newPlot(                        \"ee1654fc-9025-4385-aac9-db5144bf78c3\",                        [{\"marker\":{\"size\":8},\"mode\":\"markers+text\",\"text\":[\"happiness\"],\"textposition\":\"top center\",\"x\":[145.3493194580078],\"y\":[-48.86354446411133],\"z\":[20.07553482055664],\"type\":\"scatter3d\"},{\"marker\":{\"size\":8},\"mode\":\"markers+text\",\"text\":[\"success\"],\"textposition\":\"top center\",\"x\":[13.309150695800781],\"y\":[-7.753138542175293],\"z\":[-4.612916469573975],\"type\":\"scatter3d\"},{\"marker\":{\"size\":8},\"mode\":\"markers+text\",\"text\":[\"sadness\"],\"textposition\":\"top center\",\"x\":[182.7433319091797],\"y\":[24.650684356689453],\"z\":[-38.28227996826172],\"type\":\"scatter3d\"},{\"marker\":{\"size\":8},\"mode\":\"markers+text\",\"text\":[\"failure\"],\"textposition\":\"top center\",\"x\":[-77.8073959350586],\"y\":[30.575265884399414],\"z\":[-29.89517593383789],\"type\":\"scatter3d\"},{\"marker\":{\"size\":8},\"mode\":\"markers+text\",\"text\":[\"man\"],\"textposition\":\"top center\",\"x\":[-51.85252380371094],\"y\":[-74.26923370361328],\"z\":[113.52998352050781],\"type\":\"scatter3d\"},{\"marker\":{\"size\":8},\"mode\":\"markers+text\",\"text\":[\"woman\"],\"textposition\":\"top center\",\"x\":[3.8013079166412354],\"y\":[-74.65668487548828],\"z\":[-134.27108764648438],\"type\":\"scatter3d\"},{\"marker\":{\"size\":8},\"mode\":\"markers+text\",\"text\":[\"king\"],\"textposition\":\"top center\",\"x\":[13.359285354614258],\"y\":[13.000322341918945],\"z\":[-276.2284851074219],\"type\":\"scatter3d\"},{\"marker\":{\"size\":8},\"mode\":\"markers+text\",\"text\":[\"queen\"],\"textposition\":\"top center\",\"x\":[-24.943201065063477],\"y\":[9.308791160583496],\"z\":[256.95184326171875],\"type\":\"scatter3d\"},{\"marker\":{\"size\":8},\"mode\":\"markers+text\",\"text\":[\"dog\"],\"textposition\":\"top center\",\"x\":[-74.16039276123047],\"y\":[-161.48846435546875],\"z\":[-4.329056739807129],\"type\":\"scatter3d\"},{\"marker\":{\"size\":8},\"mode\":\"markers+text\",\"text\":[\"cat\"],\"textposition\":\"top center\",\"x\":[52.48282241821289],\"y\":[98.40245819091797],\"z\":[110.46315002441406],\"type\":\"scatter3d\"},{\"marker\":{\"size\":8},\"mode\":\"markers+text\",\"text\":[\"rabbit\"],\"textposition\":\"top center\",\"x\":[-13.786295890808105],\"y\":[175.13345336914062],\"z\":[57.09922790527344],\"type\":\"scatter3d\"}],                        {\"template\":{\"data\":{\"histogram2dcontour\":[{\"type\":\"histogram2dcontour\",\"colorbar\":{\"outlinewidth\":0,\"ticks\":\"\"},\"colorscale\":[[0.0,\"#0d0887\"],[0.1111111111111111,\"#46039f\"],[0.2222222222222222,\"#7201a8\"],[0.3333333333333333,\"#9c179e\"],[0.4444444444444444,\"#bd3786\"],[0.5555555555555556,\"#d8576b\"],[0.6666666666666666,\"#ed7953\"],[0.7777777777777778,\"#fb9f3a\"],[0.8888888888888888,\"#fdca26\"],[1.0,\"#f0f921\"]]}],\"choropleth\":[{\"type\":\"choropleth\",\"colorbar\":{\"outlinewidth\":0,\"ticks\":\"\"}}],\"histogram2d\":[{\"type\":\"histogram2d\",\"colorbar\":{\"outlinewidth\":0,\"ticks\":\"\"},\"colorscale\":[[0.0,\"#0d0887\"],[0.1111111111111111,\"#46039f\"],[0.2222222222222222,\"#7201a8\"],[0.3333333333333333,\"#9c179e\"],[0.4444444444444444,\"#bd3786\"],[0.5555555555555556,\"#d8576b\"],[0.6666666666666666,\"#ed7953\"],[0.7777777777777778,\"#fb9f3a\"],[0.8888888888888888,\"#fdca26\"],[1.0,\"#f0f921\"]]}],\"heatmap\":[{\"type\":\"heatmap\",\"colorbar\":{\"outlinewidth\":0,\"ticks\":\"\"},\"colorscale\":[[0.0,\"#0d0887\"],[0.1111111111111111,\"#46039f\"],[0.2222222222222222,\"#7201a8\"],[0.3333333333333333,\"#9c179e\"],[0.4444444444444444,\"#bd3786\"],[0.5555555555555556,\"#d8576b\"],[0.6666666666666666,\"#ed7953\"],[0.7777777777777778,\"#fb9f3a\"],[0.8888888888888888,\"#fdca26\"],[1.0,\"#f0f921\"]]}],\"heatmapgl\":[{\"type\":\"heatmapgl\",\"colorbar\":{\"outlinewidth\":0,\"ticks\":\"\"},\"colorscale\":[[0.0,\"#0d0887\"],[0.1111111111111111,\"#46039f\"],[0.2222222222222222,\"#7201a8\"],[0.3333333333333333,\"#9c179e\"],[0.4444444444444444,\"#bd3786\"],[0.5555555555555556,\"#d8576b\"],[0.6666666666666666,\"#ed7953\"],[0.7777777777777778,\"#fb9f3a\"],[0.8888888888888888,\"#fdca26\"],[1.0,\"#f0f921\"]]}],\"contourcarpet\":[{\"type\":\"contourcarpet\",\"colorbar\":{\"outlinewidth\":0,\"ticks\":\"\"}}],\"contour\":[{\"type\":\"contour\",\"colorbar\":{\"outlinewidth\":0,\"ticks\":\"\"},\"colorscale\":[[0.0,\"#0d0887\"],[0.1111111111111111,\"#46039f\"],[0.2222222222222222,\"#7201a8\"],[0.3333333333333333,\"#9c179e\"],[0.4444444444444444,\"#bd3786\"],[0.5555555555555556,\"#d8576b\"],[0.6666666666666666,\"#ed7953\"],[0.7777777777777778,\"#fb9f3a\"],[0.8888888888888888,\"#fdca26\"],[1.0,\"#f0f921\"]]}],\"surface\":[{\"type\":\"surface\",\"colorbar\":{\"outlinewidth\":0,\"ticks\":\"\"},\"colorscale\":[[0.0,\"#0d0887\"],[0.1111111111111111,\"#46039f\"],[0.2222222222222222,\"#7201a8\"],[0.3333333333333333,\"#9c179e\"],[0.4444444444444444,\"#bd3786\"],[0.5555555555555556,\"#d8576b\"],[0.6666666666666666,\"#ed7953\"],[0.7777777777777778,\"#fb9f3a\"],[0.8888888888888888,\"#fdca26\"],[1.0,\"#f0f921\"]]}],\"mesh3d\":[{\"type\":\"mesh3d\",\"colorbar\":{\"outlinewidth\":0,\"ticks\":\"\"}}],\"scatter\":[{\"fillpattern\":{\"fillmode\":\"overlay\",\"size\":10,\"solidity\":0.2},\"type\":\"scatter\"}],\"parcoords\":[{\"type\":\"parcoords\",\"line\":{\"colorbar\":{\"outlinewidth\":0,\"ticks\":\"\"}}}],\"scatterpolargl\":[{\"type\":\"scatterpolargl\",\"marker\":{\"colorbar\":{\"outlinewidth\":0,\"ticks\":\"\"}}}],\"bar\":[{\"error_x\":{\"color\":\"#2a3f5f\"},\"error_y\":{\"color\":\"#2a3f5f\"},\"marker\":{\"line\":{\"color\":\"#E5ECF6\",\"width\":0.5},\"pattern\":{\"fillmode\":\"overlay\",\"size\":10,\"solidity\":0.2}},\"type\":\"bar\"}],\"scattergeo\":[{\"type\":\"scattergeo\",\"marker\":{\"colorbar\":{\"outlinewidth\":0,\"ticks\":\"\"}}}],\"scatterpolar\":[{\"type\":\"scatterpolar\",\"marker\":{\"colorbar\":{\"outlinewidth\":0,\"ticks\":\"\"}}}],\"histogram\":[{\"marker\":{\"pattern\":{\"fillmode\":\"overlay\",\"size\":10,\"solidity\":0.2}},\"type\":\"histogram\"}],\"scattergl\":[{\"type\":\"scattergl\",\"marker\":{\"colorbar\":{\"outlinewidth\":0,\"ticks\":\"\"}}}],\"scatter3d\":[{\"type\":\"scatter3d\",\"line\":{\"colorbar\":{\"outlinewidth\":0,\"ticks\":\"\"}},\"marker\":{\"colorbar\":{\"outlinewidth\":0,\"ticks\":\"\"}}}],\"scattermapbox\":[{\"type\":\"scattermapbox\",\"marker\":{\"colorbar\":{\"outlinewidth\":0,\"ticks\":\"\"}}}],\"scatterternary\":[{\"type\":\"scatterternary\",\"marker\":{\"colorbar\":{\"outlinewidth\":0,\"ticks\":\"\"}}}],\"scattercarpet\":[{\"type\":\"scattercarpet\",\"marker\":{\"colorbar\":{\"outlinewidth\":0,\"ticks\":\"\"}}}],\"carpet\":[{\"aaxis\":{\"endlinecolor\":\"#2a3f5f\",\"gridcolor\":\"white\",\"linecolor\":\"white\",\"minorgridcolor\":\"white\",\"startlinecolor\":\"#2a3f5f\"},\"baxis\":{\"endlinecolor\":\"#2a3f5f\",\"gridcolor\":\"white\",\"linecolor\":\"white\",\"minorgridcolor\":\"white\",\"startlinecolor\":\"#2a3f5f\"},\"type\":\"carpet\"}],\"table\":[{\"cells\":{\"fill\":{\"color\":\"#EBF0F8\"},\"line\":{\"color\":\"white\"}},\"header\":{\"fill\":{\"color\":\"#C8D4E3\"},\"line\":{\"color\":\"white\"}},\"type\":\"table\"}],\"barpolar\":[{\"marker\":{\"line\":{\"color\":\"#E5ECF6\",\"width\":0.5},\"pattern\":{\"fillmode\":\"overlay\",\"size\":10,\"solidity\":0.2}},\"type\":\"barpolar\"}],\"pie\":[{\"automargin\":true,\"type\":\"pie\"}]},\"layout\":{\"autotypenumbers\":\"strict\",\"colorway\":[\"#636efa\",\"#EF553B\",\"#00cc96\",\"#ab63fa\",\"#FFA15A\",\"#19d3f3\",\"#FF6692\",\"#B6E880\",\"#FF97FF\",\"#FECB52\"],\"font\":{\"color\":\"#2a3f5f\"},\"hovermode\":\"closest\",\"hoverlabel\":{\"align\":\"left\"},\"paper_bgcolor\":\"white\",\"plot_bgcolor\":\"#E5ECF6\",\"polar\":{\"bgcolor\":\"#E5ECF6\",\"angularaxis\":{\"gridcolor\":\"white\",\"linecolor\":\"white\",\"ticks\":\"\"},\"radialaxis\":{\"gridcolor\":\"white\",\"linecolor\":\"white\",\"ticks\":\"\"}},\"ternary\":{\"bgcolor\":\"#E5ECF6\",\"aaxis\":{\"gridcolor\":\"white\",\"linecolor\":\"white\",\"ticks\":\"\"},\"baxis\":{\"gridcolor\":\"white\",\"linecolor\":\"white\",\"ticks\":\"\"},\"caxis\":{\"gridcolor\":\"white\",\"linecolor\":\"white\",\"ticks\":\"\"}},\"coloraxis\":{\"colorbar\":{\"outlinewidth\":0,\"ticks\":\"\"}},\"colorscale\":{\"sequential\":[[0.0,\"#0d0887\"],[0.1111111111111111,\"#46039f\"],[0.2222222222222222,\"#7201a8\"],[0.3333333333333333,\"#9c179e\"],[0.4444444444444444,\"#bd3786\"],[0.5555555555555556,\"#d8576b\"],[0.6666666666666666,\"#ed7953\"],[0.7777777777777778,\"#fb9f3a\"],[0.8888888888888888,\"#fdca26\"],[1.0,\"#f0f921\"]],\"sequentialminus\":[[0.0,\"#0d0887\"],[0.1111111111111111,\"#46039f\"],[0.2222222222222222,\"#7201a8\"],[0.3333333333333333,\"#9c179e\"],[0.4444444444444444,\"#bd3786\"],[0.5555555555555556,\"#d8576b\"],[0.6666666666666666,\"#ed7953\"],[0.7777777777777778,\"#fb9f3a\"],[0.8888888888888888,\"#fdca26\"],[1.0,\"#f0f921\"]],\"diverging\":[[0,\"#8e0152\"],[0.1,\"#c51b7d\"],[0.2,\"#de77ae\"],[0.3,\"#f1b6da\"],[0.4,\"#fde0ef\"],[0.5,\"#f7f7f7\"],[0.6,\"#e6f5d0\"],[0.7,\"#b8e186\"],[0.8,\"#7fbc41\"],[0.9,\"#4d9221\"],[1,\"#276419\"]]},\"xaxis\":{\"gridcolor\":\"white\",\"linecolor\":\"white\",\"ticks\":\"\",\"title\":{\"standoff\":15},\"zerolinecolor\":\"white\",\"automargin\":true,\"zerolinewidth\":2},\"yaxis\":{\"gridcolor\":\"white\",\"linecolor\":\"white\",\"ticks\":\"\",\"title\":{\"standoff\":15},\"zerolinecolor\":\"white\",\"automargin\":true,\"zerolinewidth\":2},\"scene\":{\"xaxis\":{\"backgroundcolor\":\"#E5ECF6\",\"gridcolor\":\"white\",\"linecolor\":\"white\",\"showbackground\":true,\"ticks\":\"\",\"zerolinecolor\":\"white\",\"gridwidth\":2},\"yaxis\":{\"backgroundcolor\":\"#E5ECF6\",\"gridcolor\":\"white\",\"linecolor\":\"white\",\"showbackground\":true,\"ticks\":\"\",\"zerolinecolor\":\"white\",\"gridwidth\":2},\"zaxis\":{\"backgroundcolor\":\"#E5ECF6\",\"gridcolor\":\"white\",\"linecolor\":\"white\",\"showbackground\":true,\"ticks\":\"\",\"zerolinecolor\":\"white\",\"gridwidth\":2}},\"shapedefaults\":{\"line\":{\"color\":\"#2a3f5f\"}},\"annotationdefaults\":{\"arrowcolor\":\"#2a3f5f\",\"arrowhead\":0,\"arrowwidth\":1},\"geo\":{\"bgcolor\":\"white\",\"landcolor\":\"#E5ECF6\",\"subunitcolor\":\"white\",\"showland\":true,\"showlakes\":true,\"lakecolor\":\"white\"},\"title\":{\"x\":0.05},\"mapbox\":{\"style\":\"light\"}}},\"title\":{\"text\":\"Word Embeddings in 3D space\"},\"scene\":{\"xaxis\":{\"title\":{\"text\":\"Dimension 1\"}},\"yaxis\":{\"title\":{\"text\":\"Dimension 2\"}},\"zaxis\":{\"title\":{\"text\":\"Dimension 3\"}}}},                        {\"responsive\": true}                    ).then(function(){\n",
       "                            \n",
       "var gd = document.getElementById('ee1654fc-9025-4385-aac9-db5144bf78c3');\n",
       "var x = new MutationObserver(function (mutations, observer) {{\n",
       "        var display = window.getComputedStyle(gd).display;\n",
       "        if (!display || display === 'none') {{\n",
       "            console.log([gd, 'removed!']);\n",
       "            Plotly.purge(gd);\n",
       "            observer.disconnect();\n",
       "        }}\n",
       "}});\n",
       "\n",
       "// Listen for the removal of the full notebook cells\n",
       "var notebookContainer = gd.closest('#notebook-container');\n",
       "if (notebookContainer) {{\n",
       "    x.observe(notebookContainer, {childList: true});\n",
       "}}\n",
       "\n",
       "// Listen for the clearing of the current output cell\n",
       "var outputEl = gd.closest('.output');\n",
       "if (outputEl) {{\n",
       "    x.observe(outputEl, {childList: true});\n",
       "}}\n",
       "\n",
       "                        })                };                });            </script>        </div>"
      ]
     },
     "metadata": {},
     "output_type": "display_data"
    }
   ],
   "source": [
    "# below code is GPT generated and  I have modified it.Only the syntax is from ChatGPT , idea to include animals and comapare between them is mine\n",
    "import gensim.downloader as api\n",
    "import numpy as np\n",
    "from sklearn.manifold import TSNE\n",
    "import plotly.graph_objects as go\n",
    "\n",
    "# Function to calculate cosine similarity\n",
    "def cosine_similarity(v1, v2):\n",
    "    dot_product = np.dot(v1, v2)\n",
    "    norm_v1 = np.linalg.norm(v1)\n",
    "    norm_v2 = np.linalg.norm(v2) #norm is the absolute value of the vector or the magnitude of the vector\n",
    "    return dot_product / (norm_v1 * norm_v2)\n",
    "\n",
    "#corpus of words\n",
    "words = ['happiness', 'success', 'sadness', 'failure','man','woman','king','queen' , 'dog', 'cat', 'rabbit']\n",
    "\n",
    "# Convert these words into embeddings using a pre-trained word embedding model\n",
    "# Load pre-trained word vectors\n",
    "model = api.load(\"glove-wiki-gigaword-100\")\n",
    "embeddings = np.array([model[word] for word in words])\n",
    "tsne = TSNE(n_components=3, random_state=42 , perplexity = 3)\n",
    "embeddings_3d = tsne.fit_transform(embeddings)\n",
    "fig = go.Figure()\n",
    "\n",
    "for i, word in enumerate(words):\n",
    "    fig.add_trace(go.Scatter3d(\n",
    "        x=[embeddings_3d[i, 0]],\n",
    "        y=[embeddings_3d[i, 1]],\n",
    "        z=[embeddings_3d[i, 2]],\n",
    "        text=[word],\n",
    "        mode='markers+text',\n",
    "        marker=dict(size=8),\n",
    "        textposition='top center'\n",
    "    ))\n",
    "\n",
    "fig.update_layout(\n",
    "    title='Word Embeddings in 3D space',\n",
    "    scene=dict(\n",
    "        xaxis_title='Dimension 1',\n",
    "        yaxis_title='Dimension 2',\n",
    "        zaxis_title='Dimension 3'\n",
    "    )\n",
    ")\n",
    "\n",
    "fig.show()\n"
   ]
  },
  {
   "cell_type": "code",
   "execution_count": 15,
   "id": "8b69ce08",
   "metadata": {},
   "outputs": [
    {
     "name": "stdout",
     "output_type": "stream",
     "text": [
      "Cosine similarity between 'happiness' and 'happiness': 1.0000\n",
      "Cosine similarity between 'happiness' and 'success': 0.5104\n",
      "Cosine similarity between 'happiness' and 'sadness': 0.6159\n",
      "Cosine similarity between 'happiness' and 'failure': 0.2918\n",
      "Cosine similarity between 'happiness' and 'man': 0.3360\n",
      "Cosine similarity between 'happiness' and 'woman': 0.3397\n",
      "Cosine similarity between 'happiness' and 'king': 0.2362\n",
      "Cosine similarity between 'happiness' and 'queen': 0.2668\n",
      "Cosine similarity between 'happiness' and 'dog': 0.2536\n",
      "Cosine similarity between 'happiness' and 'cat': 0.2405\n",
      "Cosine similarity between 'happiness' and 'rabbit': 0.1813\n",
      "Cosine similarity between 'success' and 'happiness': 0.5104\n",
      "Cosine similarity between 'success' and 'success': 1.0000\n",
      "Cosine similarity between 'success' and 'sadness': 0.2767\n",
      "Cosine similarity between 'success' and 'failure': 0.5935\n",
      "Cosine similarity between 'success' and 'man': 0.4290\n",
      "Cosine similarity between 'success' and 'woman': 0.3300\n",
      "Cosine similarity between 'success' and 'king': 0.3724\n",
      "Cosine similarity between 'success' and 'queen': 0.3678\n",
      "Cosine similarity between 'success' and 'dog': 0.2847\n",
      "Cosine similarity between 'success' and 'cat': 0.2516\n",
      "Cosine similarity between 'success' and 'rabbit': 0.1453\n",
      "Cosine similarity between 'sadness' and 'happiness': 0.6159\n",
      "Cosine similarity between 'sadness' and 'success': 0.2767\n",
      "Cosine similarity between 'sadness' and 'sadness': 1.0000\n",
      "Cosine similarity between 'sadness' and 'failure': 0.3624\n",
      "Cosine similarity between 'sadness' and 'man': 0.2403\n",
      "Cosine similarity between 'sadness' and 'woman': 0.2151\n",
      "Cosine similarity between 'sadness' and 'king': 0.2265\n",
      "Cosine similarity between 'sadness' and 'queen': 0.1950\n",
      "Cosine similarity between 'sadness' and 'dog': 0.0902\n",
      "Cosine similarity between 'sadness' and 'cat': 0.0692\n",
      "Cosine similarity between 'sadness' and 'rabbit': 0.0533\n",
      "Cosine similarity between 'failure' and 'happiness': 0.2918\n",
      "Cosine similarity between 'failure' and 'success': 0.5935\n",
      "Cosine similarity between 'failure' and 'sadness': 0.3624\n",
      "Cosine similarity between 'failure' and 'failure': 1.0000\n",
      "Cosine similarity between 'failure' and 'man': 0.3526\n",
      "Cosine similarity between 'failure' and 'woman': 0.3042\n",
      "Cosine similarity between 'failure' and 'king': 0.3496\n",
      "Cosine similarity between 'failure' and 'queen': 0.2360\n",
      "Cosine similarity between 'failure' and 'dog': 0.2231\n",
      "Cosine similarity between 'failure' and 'cat': 0.1755\n",
      "Cosine similarity between 'failure' and 'rabbit': 0.0642\n",
      "Cosine similarity between 'man' and 'happiness': 0.3360\n",
      "Cosine similarity between 'man' and 'success': 0.4290\n",
      "Cosine similarity between 'man' and 'sadness': 0.2403\n",
      "Cosine similarity between 'man' and 'failure': 0.3526\n",
      "Cosine similarity between 'man' and 'man': 1.0000\n",
      "Cosine similarity between 'man' and 'woman': 0.8323\n",
      "Cosine similarity between 'man' and 'king': 0.5119\n",
      "Cosine similarity between 'man' and 'queen': 0.4740\n",
      "Cosine similarity between 'man' and 'dog': 0.5643\n",
      "Cosine similarity between 'man' and 'cat': 0.5262\n",
      "Cosine similarity between 'man' and 'rabbit': 0.3520\n",
      "Cosine similarity between 'woman' and 'happiness': 0.3397\n",
      "Cosine similarity between 'woman' and 'success': 0.3300\n",
      "Cosine similarity between 'woman' and 'sadness': 0.2151\n",
      "Cosine similarity between 'woman' and 'failure': 0.3042\n",
      "Cosine similarity between 'woman' and 'man': 0.8323\n",
      "Cosine similarity between 'woman' and 'woman': 1.0000\n",
      "Cosine similarity between 'woman' and 'king': 0.3657\n",
      "Cosine similarity between 'woman' and 'queen': 0.5095\n",
      "Cosine similarity between 'woman' and 'dog': 0.4981\n",
      "Cosine similarity between 'woman' and 'cat': 0.4784\n",
      "Cosine similarity between 'woman' and 'rabbit': 0.3059\n",
      "Cosine similarity between 'king' and 'happiness': 0.2362\n",
      "Cosine similarity between 'king' and 'success': 0.3724\n",
      "Cosine similarity between 'king' and 'sadness': 0.2265\n",
      "Cosine similarity between 'king' and 'failure': 0.3496\n",
      "Cosine similarity between 'king' and 'man': 0.5119\n",
      "Cosine similarity between 'king' and 'woman': 0.3657\n",
      "Cosine similarity between 'king' and 'king': 1.0000\n",
      "Cosine similarity between 'king' and 'queen': 0.7508\n",
      "Cosine similarity between 'king' and 'dog': 0.2951\n",
      "Cosine similarity between 'king' and 'cat': 0.3282\n",
      "Cosine similarity between 'king' and 'rabbit': 0.2646\n",
      "Cosine similarity between 'queen' and 'happiness': 0.2668\n",
      "Cosine similarity between 'queen' and 'success': 0.3678\n",
      "Cosine similarity between 'queen' and 'sadness': 0.1950\n",
      "Cosine similarity between 'queen' and 'failure': 0.2360\n",
      "Cosine similarity between 'queen' and 'man': 0.4740\n",
      "Cosine similarity between 'queen' and 'woman': 0.5095\n",
      "Cosine similarity between 'queen' and 'king': 0.7508\n",
      "Cosine similarity between 'queen' and 'queen': 1.0000\n",
      "Cosine similarity between 'queen' and 'dog': 0.3395\n",
      "Cosine similarity between 'queen' and 'cat': 0.3810\n",
      "Cosine similarity between 'queen' and 'rabbit': 0.2508\n",
      "Cosine similarity between 'dog' and 'happiness': 0.2536\n",
      "Cosine similarity between 'dog' and 'success': 0.2847\n",
      "Cosine similarity between 'dog' and 'sadness': 0.0902\n",
      "Cosine similarity between 'dog' and 'failure': 0.2231\n",
      "Cosine similarity between 'dog' and 'man': 0.5643\n",
      "Cosine similarity between 'dog' and 'woman': 0.4981\n",
      "Cosine similarity between 'dog' and 'king': 0.2951\n",
      "Cosine similarity between 'dog' and 'queen': 0.3395\n",
      "Cosine similarity between 'dog' and 'dog': 1.0000\n",
      "Cosine similarity between 'dog' and 'cat': 0.8798\n",
      "Cosine similarity between 'dog' and 'rabbit': 0.6469\n",
      "Cosine similarity between 'cat' and 'happiness': 0.2405\n",
      "Cosine similarity between 'cat' and 'success': 0.2516\n",
      "Cosine similarity between 'cat' and 'sadness': 0.0692\n",
      "Cosine similarity between 'cat' and 'failure': 0.1755\n",
      "Cosine similarity between 'cat' and 'man': 0.5262\n",
      "Cosine similarity between 'cat' and 'woman': 0.4784\n",
      "Cosine similarity between 'cat' and 'king': 0.3282\n",
      "Cosine similarity between 'cat' and 'queen': 0.3810\n",
      "Cosine similarity between 'cat' and 'dog': 0.8798\n",
      "Cosine similarity between 'cat' and 'cat': 1.0000\n",
      "Cosine similarity between 'cat' and 'rabbit': 0.7424\n",
      "Cosine similarity between 'rabbit' and 'happiness': 0.1813\n",
      "Cosine similarity between 'rabbit' and 'success': 0.1453\n",
      "Cosine similarity between 'rabbit' and 'sadness': 0.0533\n",
      "Cosine similarity between 'rabbit' and 'failure': 0.0642\n",
      "Cosine similarity between 'rabbit' and 'man': 0.3520\n",
      "Cosine similarity between 'rabbit' and 'woman': 0.3059\n",
      "Cosine similarity between 'rabbit' and 'king': 0.2646\n",
      "Cosine similarity between 'rabbit' and 'queen': 0.2508\n",
      "Cosine similarity between 'rabbit' and 'dog': 0.6469\n",
      "Cosine similarity between 'rabbit' and 'cat': 0.7424\n",
      "Cosine similarity between 'rabbit' and 'rabbit': 1.0000\n"
     ]
    }
   ],
   "source": [
    "similarity = [[0]*len(words) for _ in range(len(words))]\n",
    "for i in range(len(words)):\n",
    "    for j in range(len(words)):\n",
    "        similarity[i][j] = cosine_similarity(embeddings[i], embeddings[j])\n",
    "        print(f\"Cosine similarity between '{words[i]}' and '{words[j]}': {similarity[i][j]:.4f}\")\n"
   ]
  },
  {
   "cell_type": "code",
   "execution_count": 16,
   "id": "f288b9b6",
   "metadata": {},
   "outputs": [
    {
     "name": "stdout",
     "output_type": "stream",
     "text": [
      "[[1.         0.51042324 0.61585224 0.29178962 0.33595636 0.33970976\n",
      "  0.23624037 0.26679105 0.25360554 0.24054927 0.18125434]\n",
      " [0.51042324 1.         0.27665427 0.5934819  0.42904678 0.32999048\n",
      "  0.3724138  0.36779028 0.2847064  0.25161365 0.14530987]\n",
      " [0.61585224 0.27665427 0.99999994 0.36238217 0.24028894 0.21511696\n",
      "  0.22652636 0.19501376 0.09017212 0.06917604 0.05332812]\n",
      " [0.29178962 0.5934819  0.36238217 0.99999994 0.35255626 0.3041968\n",
      "  0.34956864 0.23595631 0.22314484 0.17546944 0.06423179]\n",
      " [0.33595636 0.42904678 0.24028894 0.35255626 1.0000001  0.83234936\n",
      "  0.5118681  0.47403234 0.5643127  0.52618414 0.3520111 ]\n",
      " [0.33970976 0.32999048 0.21511696 0.3041968  0.83234936 1.\n",
      "  0.36574456 0.5095154  0.49806648 0.47835097 0.3059358 ]\n",
      " [0.23624037 0.3724138  0.22652636 0.34956864 0.5118681  0.36574456\n",
      "  1.0000001  0.7507691  0.29510066 0.32823765 0.26456177]\n",
      " [0.26679105 0.36779028 0.19501376 0.23595631 0.47403234 0.5095154\n",
      "  0.7507691  1.         0.3395347  0.3810363  0.250774  ]\n",
      " [0.25360554 0.2847064  0.09017212 0.22314484 0.5643127  0.49806648\n",
      "  0.29510066 0.3395347  0.99999994 0.87980753 0.646863  ]\n",
      " [0.24054927 0.25161365 0.06917604 0.17546944 0.52618414 0.47835097\n",
      "  0.32823765 0.3810363  0.87980753 1.         0.74244267]\n",
      " [0.18125434 0.14530987 0.05332812 0.06423179 0.3520111  0.3059358\n",
      "  0.26456177 0.250774   0.646863   0.74244267 1.0000001 ]]\n"
     ]
    }
   ],
   "source": [
    "similarity = np.array(similarity)\n",
    "print(similarity)"
   ]
  },
  {
   "cell_type": "markdown",
   "id": "2807c71f",
   "metadata": {},
   "source": [
    "Point to note: cosine similarity between king and queen is 0.7508 and between man and woman is 0.8323 which are closer enough .\n",
    "Between dog and cat is 0.8798 (famous pets)  and between dog and rabbit is 0.6469 and between cat and rabbit is 0.7424   which are quite high indicating that all animal embeddings are in one direction. Happiness and success lie on one side and failure and sadness lie on the opposite side "
   ]
  },
  {
   "cell_type": "code",
   "execution_count": null,
   "id": "35773276",
   "metadata": {},
   "outputs": [],
   "source": []
  }
 ],
 "metadata": {
  "kernelspec": {
   "display_name": "Python 3 (ipykernel)",
   "language": "python",
   "name": "python3"
  },
  "language_info": {
   "codemirror_mode": {
    "name": "ipython",
    "version": 3
   },
   "file_extension": ".py",
   "mimetype": "text/x-python",
   "name": "python",
   "nbconvert_exporter": "python",
   "pygments_lexer": "ipython3",
   "version": "3.11.5"
  }
 },
 "nbformat": 4,
 "nbformat_minor": 5
}
